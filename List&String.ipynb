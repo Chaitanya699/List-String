{
 "cells": [
  {
   "cell_type": "code",
   "execution_count": 14,
   "id": "805f7a17",
   "metadata": {},
   "outputs": [],
   "source": [
    "#Basic of The List & String"
   ]
  },
  {
   "cell_type": "code",
   "execution_count": 2,
   "id": "4cbe2dbf",
   "metadata": {},
   "outputs": [
    {
     "data": {
      "text/plain": [
       "['pythong', 'c', 'cpp', 'java']"
      ]
     },
     "execution_count": 2,
     "metadata": {},
     "output_type": "execute_result"
    }
   ],
   "source": [
    "#Definig the String type list\n",
    "language = ['pythong','c','cpp','java']\n",
    "language"
   ]
  },
  {
   "cell_type": "code",
   "execution_count": 4,
   "id": "c2deff9f",
   "metadata": {},
   "outputs": [
    {
     "name": "stdout",
     "output_type": "stream",
     "text": [
      "c\n",
      "java\n"
     ]
    }
   ],
   "source": [
    "#Accessing element through positive indexing\n",
    "print(language[1])\n",
    "print(language[3])"
   ]
  },
  {
   "cell_type": "code",
   "execution_count": 5,
   "id": "61c64551",
   "metadata": {},
   "outputs": [
    {
     "name": "stdout",
     "output_type": "stream",
     "text": [
      "java\n",
      "cpp\n"
     ]
    }
   ],
   "source": [
    "#Accessing element through negative indexing\n",
    "print(language[-1])\n",
    "print(language[-2])"
   ]
  },
  {
   "cell_type": "code",
   "execution_count": 7,
   "id": "6af34094",
   "metadata": {},
   "outputs": [
    {
     "name": "stdout",
     "output_type": "stream",
     "text": [
      "p\n",
      "a\n"
     ]
    }
   ],
   "source": [
    "#Slicing the element \n",
    "print(language[0][0])\n",
    "print(language[3][3])"
   ]
  },
  {
   "cell_type": "code",
   "execution_count": 8,
   "id": "430e8ab1",
   "metadata": {},
   "outputs": [
    {
     "data": {
      "text/plain": [
       "['pythong', 'c', 'cpp', 'java', 'Ruby']"
      ]
     },
     "execution_count": 8,
     "metadata": {},
     "output_type": "execute_result"
    }
   ],
   "source": [
    "#Append function add an element at the end of the list\n",
    "#syntax\n",
    "\n",
    "language.append('Ruby')\n",
    "language"
   ]
  },
  {
   "cell_type": "code",
   "execution_count": 9,
   "id": "03e12e64",
   "metadata": {},
   "outputs": [
    {
     "data": {
      "text/plain": [
       "['pythong', 'Pascal', 'c', 'cpp', 'java', 'Ruby']"
      ]
     },
     "execution_count": 9,
     "metadata": {},
     "output_type": "execute_result"
    }
   ],
   "source": [
    "#insert function is used to insert element into list or anything \n",
    "language.insert(1,'Pascal')\n",
    "language"
   ]
  },
  {
   "cell_type": "code",
   "execution_count": 10,
   "id": "81a618ac",
   "metadata": {},
   "outputs": [
    {
     "data": {
      "text/plain": [
       "['pythong', 'Pascal', 'c', 'cpp', 'Ruby']"
      ]
     },
     "execution_count": 10,
     "metadata": {},
     "output_type": "execute_result"
    }
   ],
   "source": [
    "#Remove Function is used to remove the element from list or anything\n",
    "language.remove('java')\n",
    "language"
   ]
  },
  {
   "cell_type": "code",
   "execution_count": 11,
   "id": "82e528a8",
   "metadata": {},
   "outputs": [
    {
     "data": {
      "text/plain": [
       "['pythong', 'c', 'cpp', 'Ruby']"
      ]
     },
     "execution_count": 11,
     "metadata": {},
     "output_type": "execute_result"
    }
   ],
   "source": [
    "#pop function this function is used to remove the element by indexing wise\n",
    "language.pop(1)\n",
    "language"
   ]
  },
  {
   "cell_type": "code",
   "execution_count": 12,
   "id": "02421305",
   "metadata": {},
   "outputs": [
    {
     "data": {
      "text/plain": [
       "['pythong', 'c', 'cpp', 'Ruby', [100, 200, 300]]"
      ]
     },
     "execution_count": 12,
     "metadata": {},
     "output_type": "execute_result"
    }
   ],
   "source": [
    "#how to append one list to another list\n",
    "team = [100,200,300]\n",
    "language.append(team)\n",
    "language"
   ]
  },
  {
   "cell_type": "code",
   "execution_count": 13,
   "id": "21282507",
   "metadata": {},
   "outputs": [
    {
     "data": {
      "text/plain": [
       "['pythong', 'c', 'cpp', 'Ruby', [100, 200, 300], 1, 2, 3]"
      ]
     },
     "execution_count": 13,
     "metadata": {},
     "output_type": "execute_result"
    }
   ],
   "source": [
    "#extend function  add the all the element as it is\n",
    "anilist = [1,2,3]\n",
    "language.extend(anilist)\n",
    "language"
   ]
  },
  {
   "cell_type": "code",
   "execution_count": null,
   "id": "84d70877",
   "metadata": {},
   "outputs": [],
   "source": []
  }
 ],
 "metadata": {
  "kernelspec": {
   "display_name": "Python 3 (ipykernel)",
   "language": "python",
   "name": "python3"
  },
  "language_info": {
   "codemirror_mode": {
    "name": "ipython",
    "version": 3
   },
   "file_extension": ".py",
   "mimetype": "text/x-python",
   "name": "python",
   "nbconvert_exporter": "python",
   "pygments_lexer": "ipython3",
   "version": "3.9.12"
  }
 },
 "nbformat": 4,
 "nbformat_minor": 5
}
